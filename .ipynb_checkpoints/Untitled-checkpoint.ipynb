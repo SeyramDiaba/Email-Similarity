{
 "cells": [
  {
   "cell_type": "markdown",
   "id": "1f9398e8",
   "metadata": {},
   "source": [
    "# Libraries"
   ]
  },
  {
   "cell_type": "code",
   "execution_count": 1,
   "id": "a0f9cac7",
   "metadata": {},
   "outputs": [],
   "source": [
    "from sklearn.datasets import fetch_20newsgroups\n",
    "from sklearn.naive_bayes import MultinomialNB\n",
    "from sklearn.feature_extraction.text import CountVectorizer\n"
   ]
  },
  {
   "cell_type": "code",
   "execution_count": 2,
   "id": "b26c2ddb",
   "metadata": {},
   "outputs": [],
   "source": [
    "emails = fetch_20newsgroups(categories = ['rec.sport.baseball', 'rec.sport.hockey'])"
   ]
  },
  {
   "cell_type": "markdown",
   "id": "158b929a",
   "metadata": {},
   "source": [
    "## EDA"
   ]
  },
  {
   "cell_type": "code",
   "execution_count": 3,
   "id": "855be813",
   "metadata": {},
   "outputs": [
    {
     "name": "stdout",
     "output_type": "stream",
     "text": [
      "['rec.sport.baseball', 'rec.sport.hockey']\n"
     ]
    }
   ],
   "source": [
    "print(emails.target_names)"
   ]
  },
  {
   "cell_type": "code",
   "execution_count": 4,
   "id": "65e42754",
   "metadata": {},
   "outputs": [
    {
     "name": "stdout",
     "output_type": "stream",
     "text": [
      "From: mmb@lamar.ColoState.EDU (Michael Burger)\n",
      "Subject: More TV Info\n",
      "Distribution: na\n",
      "Nntp-Posting-Host: lamar.acns.colostate.edu\n",
      "Organization: Colorado State University, Fort Collins, CO  80523\n",
      "Lines: 36\n",
      "\n",
      "United States Coverage:\n",
      "Sunday April 18\n",
      "  N.J./N.Y.I. at Pittsburgh - 1:00 EDT to Eastern Time Zone\n",
      "  ABC - Gary Thorne and Bill Clement\n",
      "\n",
      "  St. Louis at Chicago - 12:00 CDT and 11:00 MDT - to Central/Mountain Zones\n",
      "  ABC - Mike Emerick and Jim Schoenfeld\n",
      "\n",
      "  Los Angeles at Calgary - 12:00 PDT and 11:00 ADT - to Pacific/Alaskan Zones\n",
      "  ABC - Al Michaels and John Davidson\n",
      "\n",
      "Tuesday, April 20\n",
      "  N.J./N.Y.I. at Pittsburgh - 7:30 EDT Nationwide\n",
      "  ESPN - Gary Thorne and Bill Clement\n",
      "\n",
      "Thursday, April 22 and Saturday April 24\n",
      "  To Be Announced - 7:30 EDT Nationwide\n",
      "  ESPN - To Be Announced\n",
      "\n",
      "\n",
      "Canadian Coverage:\n",
      "\n",
      "Sunday, April 18\n",
      "  Buffalo at Boston - 7:30 EDT Nationwide\n",
      "  TSN - ???\n",
      "\n",
      "Tuesday, April 20\n",
      "  N.J.D./N.Y. at Pittsburgh - 7:30 EDT Nationwide\n",
      "  TSN - ???\n",
      "\n",
      "Wednesday, April 21\n",
      "  St. Louis at Chicago - 8:30 EDT Nationwide\n",
      "  TSN - ???\n",
      "\n",
      "\n",
      "\n",
      "\n"
     ]
    }
   ],
   "source": [
    "print(emails.data[5])"
   ]
  },
  {
   "cell_type": "code",
   "execution_count": 5,
   "id": "50cb3a3d",
   "metadata": {},
   "outputs": [
    {
     "name": "stdout",
     "output_type": "stream",
     "text": [
      "1\n",
      "['rec.sport.baseball', 'rec.sport.hockey']\n"
     ]
    }
   ],
   "source": [
    "# label of email at index 5\n",
    "print(emails.target[5])\n",
    "print(emails.target_names)\n",
    "# sample at index 5 is a hockey email"
   ]
  },
  {
   "cell_type": "markdown",
   "id": "7f422fa8",
   "metadata": {},
   "source": [
    "## Making the Training and Test Sets"
   ]
  },
  {
   "cell_type": "code",
   "execution_count": 6,
   "id": "8c33b237",
   "metadata": {},
   "outputs": [],
   "source": [
    "train_emails = fetch_20newsgroups(categories = ['comp.sys.ibm.pc.hardware','rec.sport.hockey'], subset = 'train', shuffle = True, random_state = 108)\n",
    "test_emails = fetch_20newsgroups(categories = ['comp.sys.ibm.pc.hardware','rec.sport.hockey'], subset = 'test', shuffle = True, random_state = 108)"
   ]
  },
  {
   "cell_type": "markdown",
   "id": "60b41df7",
   "metadata": {},
   "source": [
    "## Word Count"
   ]
  },
  {
   "cell_type": "code",
   "execution_count": 7,
   "id": "5149078a",
   "metadata": {},
   "outputs": [],
   "source": [
    "counter = CountVectorizer()"
   ]
  },
  {
   "cell_type": "code",
   "execution_count": 8,
   "id": "2428984c",
   "metadata": {},
   "outputs": [
    {
     "data": {
      "text/plain": [
       "CountVectorizer()"
      ]
     },
     "execution_count": 8,
     "metadata": {},
     "output_type": "execute_result"
    }
   ],
   "source": [
    "#fit data\n",
    "counter.fit(test_emails.data + train_emails.data)"
   ]
  },
  {
   "cell_type": "code",
   "execution_count": 9,
   "id": "39760461",
   "metadata": {},
   "outputs": [],
   "source": [
    "train_counts = counter.transform(train_emails.data)\n",
    "test_counts = counter.transform(test_emails.data)"
   ]
  },
  {
   "cell_type": "markdown",
   "id": "5cbf0bbe",
   "metadata": {},
   "source": [
    "## Naive Bayes Classifier"
   ]
  },
  {
   "cell_type": "code",
   "execution_count": 10,
   "id": "99122a34",
   "metadata": {},
   "outputs": [],
   "source": [
    "classifier = MultinomialNB()"
   ]
  },
  {
   "cell_type": "code",
   "execution_count": 11,
   "id": "cfe06a8c",
   "metadata": {},
   "outputs": [
    {
     "data": {
      "text/plain": [
       "MultinomialNB()"
      ]
     },
     "execution_count": 11,
     "metadata": {},
     "output_type": "execute_result"
    }
   ],
   "source": [
    "#fitting train counts and train emails\n",
    "classifier.fit(train_counts,train_emails.target)"
   ]
  },
  {
   "cell_type": "markdown",
   "id": "aeeaf7b5",
   "metadata": {},
   "source": [
    "#### Training Score"
   ]
  },
  {
   "cell_type": "code",
   "execution_count": 12,
   "id": "bed1bcc0",
   "metadata": {},
   "outputs": [
    {
     "name": "stdout",
     "output_type": "stream",
     "text": [
      "0.9957983193277311\n"
     ]
    }
   ],
   "source": [
    "# Testing NB classifier with \".score()\" function\n",
    "# Score for training\n",
    "print(classifier.score(train_counts,train_emails.target))"
   ]
  },
  {
   "cell_type": "markdown",
   "id": "0b9ef770",
   "metadata": {},
   "source": [
    "#### Test Score"
   ]
  },
  {
   "cell_type": "code",
   "execution_count": 13,
   "id": "5ab02be7",
   "metadata": {},
   "outputs": [
    {
     "name": "stdout",
     "output_type": "stream",
     "text": [
      "0.9974715549936789\n"
     ]
    }
   ],
   "source": [
    "# Score for test\n",
    "print(classifier.score(test_counts,test_emails.target))"
   ]
  }
 ],
 "metadata": {
  "kernelspec": {
   "display_name": "Python 3",
   "language": "python",
   "name": "python3"
  },
  "language_info": {
   "codemirror_mode": {
    "name": "ipython",
    "version": 3
   },
   "file_extension": ".py",
   "mimetype": "text/x-python",
   "name": "python",
   "nbconvert_exporter": "python",
   "pygments_lexer": "ipython3",
   "version": "3.8.8"
  }
 },
 "nbformat": 4,
 "nbformat_minor": 5
}
